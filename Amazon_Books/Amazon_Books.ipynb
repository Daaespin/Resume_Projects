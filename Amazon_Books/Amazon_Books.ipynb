{
 "cells": [
  {
   "cell_type": "code",
   "execution_count": 55,
   "metadata": {},
   "outputs": [
    {
     "name": "stdout",
     "output_type": "stream",
     "text": [
      "                                               Title  \\\n",
      "0                     Its Only Art If Its Well Hung!   \n",
      "1                           Dr. Seuss: American Icon   \n",
      "2              Wonderful Worship in Smaller Churches   \n",
      "3                      Whispers of the Wicked Saints   \n",
      "4  Nation Dance: Religion, Identity and Cultural ...   \n",
      "\n",
      "                                         description              authors  \\\n",
      "0                                                NaN     ['Julie Strain']   \n",
      "1  Philip Nel takes a fascinating look into the k...       ['Philip Nel']   \n",
      "2  This resource includes twelve principles in un...     ['David R. Ray']   \n",
      "3  Julia Thomas finds her life spinning out of co...  ['Veronica Haddon']   \n",
      "4                                                NaN      ['Edward Long']   \n",
      "\n",
      "                                               image  \\\n",
      "0  http://books.google.com/books/content?id=DykPA...   \n",
      "1  http://books.google.com/books/content?id=IjvHQ...   \n",
      "2  http://books.google.com/books/content?id=2tsDA...   \n",
      "3  http://books.google.com/books/content?id=aRSIg...   \n",
      "4                                                NaN   \n",
      "\n",
      "                                         previewLink  publisher publishedDate  \\\n",
      "0  http://books.google.nl/books?id=DykPAAAACAAJ&d...        NaN          1996   \n",
      "1  http://books.google.nl/books?id=IjvHQsCn_pgC&p...  A&C Black    2005-01-01   \n",
      "2  http://books.google.nl/books?id=2tsDAAAACAAJ&d...        NaN          2000   \n",
      "3  http://books.google.nl/books?id=aRSIgJlq6JwC&d...  iUniverse       2005-02   \n",
      "4  http://books.google.nl/books?id=399SPgAACAAJ&d...        NaN    2003-03-01   \n",
      "\n",
      "                                            infoLink  \\\n",
      "0  http://books.google.nl/books?id=DykPAAAACAAJ&d...   \n",
      "1  http://books.google.nl/books?id=IjvHQsCn_pgC&d...   \n",
      "2  http://books.google.nl/books?id=2tsDAAAACAAJ&d...   \n",
      "3  http://books.google.nl/books?id=aRSIgJlq6JwC&d...   \n",
      "4  http://books.google.nl/books?id=399SPgAACAAJ&d...   \n",
      "\n",
      "                      categories  ratingsCount  \n",
      "0    ['Comics & Graphic Novels']           NaN  \n",
      "1  ['Biography & Autobiography']           NaN  \n",
      "2                   ['Religion']           NaN  \n",
      "3                    ['Fiction']           NaN  \n",
      "4                            NaN           NaN  \n",
      "           Id                           Title  Price         User_id  \\\n",
      "0  1882931173  Its Only Art If Its Well Hung!    NaN   AVCGYZL8FQQTD   \n",
      "1  0826414346        Dr. Seuss: American Icon    NaN  A30TK6U7DNS82R   \n",
      "2  0826414346        Dr. Seuss: American Icon    NaN  A3UH4UZ4RSVO82   \n",
      "3  0826414346        Dr. Seuss: American Icon    NaN  A2MVUWT453QH61   \n",
      "4  0826414346        Dr. Seuss: American Icon    NaN  A22X4XUPKF66MR   \n",
      "\n",
      "                          profileName review/helpfulness  review/score  \\\n",
      "0               Jim of Oz \"jim-of-oz\"                7/7           4.0   \n",
      "1                       Kevin Killian              10/10           5.0   \n",
      "2                        John Granger              10/11           5.0   \n",
      "3  Roy E. Perry \"amateur philosopher\"                7/7           4.0   \n",
      "4     D. H. Richards \"ninthwavestore\"                3/3           4.0   \n",
      "\n",
      "   review/time                                   review/summary  \\\n",
      "0    940636800           Nice collection of Julie Strain images   \n",
      "1   1095724800                                Really Enjoyed It   \n",
      "2   1078790400  Essential for every personal and Public Library   \n",
      "3   1090713600  Phlip Nel gives silly Seuss a serious treatment   \n",
      "4   1107993600                           Good academic overview   \n",
      "\n",
      "                                         review/text  \n",
      "0  This is only for Julie Strain fans. It's a col...  \n",
      "1  I don't care much for Dr. Seuss but after read...  \n",
      "2  If people become the books they read and if \"t...  \n",
      "3  Theodore Seuss Geisel (1904-1991), aka &quot;D...  \n",
      "4  Philip Nel - Dr. Seuss: American IconThis is b...  \n"
     ]
    }
   ],
   "source": [
    "import pandas as pd\n",
    "\n",
    "books_data_path = \"C:/Users/espin/OneDrive/Desktop/Resume/books_data.csv\"\n",
    "ratings_data_path = \"C:/Users/espin/OneDrive/Desktop/Resume/Books_rating.csv\"\n",
    "\n",
    "books_data = pd.read_csv(books_data_path, low_memory=False)\n",
    "ratings_data = pd.read_csv(ratings_data_path, low_memory=False)\n",
    "\n",
    "print(books_data.head())\n",
    "print(ratings_data.head())"
   ]
  },
  {
   "cell_type": "code",
   "execution_count": 56,
   "metadata": {},
   "outputs": [
    {
     "name": "stdout",
     "output_type": "stream",
     "text": [
      "                                               Title  \\\n",
      "0                     Its Only Art If Its Well Hung!   \n",
      "1                           Dr. Seuss: American Icon   \n",
      "2              Wonderful Worship in Smaller Churches   \n",
      "3                      Whispers of the Wicked Saints   \n",
      "4  Nation Dance: Religion, Identity and Cultural ...   \n",
      "\n",
      "                                         description              authors  \\\n",
      "0                                                NaN     ['Julie Strain']   \n",
      "1  Philip Nel takes a fascinating look into the k...       ['Philip Nel']   \n",
      "2  This resource includes twelve principles in un...     ['David R. Ray']   \n",
      "3  Julia Thomas finds her life spinning out of co...  ['Veronica Haddon']   \n",
      "4                                                NaN      ['Edward Long']   \n",
      "\n",
      "   publisher publishedDate                     categories  ratingsCount  \n",
      "0        NaN          1996    ['Comics & Graphic Novels']           NaN  \n",
      "1  A&C Black    2005-01-01  ['Biography & Autobiography']           NaN  \n",
      "2        NaN          2000                   ['Religion']           NaN  \n",
      "3  iUniverse       2005-02                    ['Fiction']           NaN  \n",
      "4        NaN    2003-03-01                            NaN           NaN  \n"
     ]
    }
   ],
   "source": [
    "#Remove unnecessary columns from books_data\n",
    "columns_to_remove = [\"image\", \"previewLink\", \"infoLink\"]\n",
    "books_data = books_data.drop(columns=columns_to_remove)\n",
    "\n",
    "print(books_data.head())\n"
   ]
  },
  {
   "cell_type": "code",
   "execution_count": 57,
   "metadata": {},
   "outputs": [
    {
     "name": "stdout",
     "output_type": "stream",
     "text": [
      "Index(['Title', 'description', 'authors', 'publisher', 'publishedDate',\n",
      "       'categories', 'ratingsCount'],\n",
      "      dtype='object')\n"
     ]
    }
   ],
   "source": [
    "print(books_data.columns)"
   ]
  },
  {
   "cell_type": "code",
   "execution_count": 58,
   "metadata": {},
   "outputs": [
    {
     "name": "stdout",
     "output_type": "stream",
     "text": [
      "Index(['Id', 'Title', 'Price', 'User_id', 'profileName', 'review/helpfulness',\n",
      "       'review/score', 'review/time', 'review/summary', 'review/text'],\n",
      "      dtype='object')\n"
     ]
    }
   ],
   "source": [
    "print(ratings_data.columns)"
   ]
  },
  {
   "cell_type": "code",
   "execution_count": 63,
   "metadata": {},
   "outputs": [
    {
     "name": "stdout",
     "output_type": "stream",
     "text": [
      "Title            0\n",
      "description      0\n",
      "authors          0\n",
      "publisher        0\n",
      "publishedDate    0\n",
      "categories       0\n",
      "ratingsCount     0\n",
      "dtype: int64\n",
      "                                                Title  \\\n",
      "5   The Church of Christ: A Biblical Ecclesiology ...   \n",
      "31  Voices from the Farm: Adventures in Community ...   \n",
      "33                            The Battleship Bismarck   \n",
      "42                            Tess and the Highlander   \n",
      "43   Beginner's Yoruba (Hippocrene Beginner's Series)   \n",
      "\n",
      "                                          description  \\\n",
      "5   In The Church of Christ: A Biblical Ecclesiolo...   \n",
      "31  Twenty-five years ago, at the height of the co...   \n",
      "33  The Bismarck is perhaps the most famous – and ...   \n",
      "42  In 1543, on a windswept isle off of Scotland, ...   \n",
      "43  \"Beginner's Yoruba\" is now available with two ...   \n",
      "\n",
      "                    authors                   publisher publishedDate  \\\n",
      "5      ['Everett Ferguson']  Wm. B. Eerdmans Publishing          1996   \n",
      "31          ['Rupert Fike']     Book Publishing Company    2012-08-21   \n",
      "33     ['Stefan Draminski']       Bloomsbury Publishing    2018-09-20   \n",
      "42       ['May Mcgoldrick']              Harper Collins       2002-11   \n",
      "43  ['Kayode J. Fakinlede']            Hippocrene Books          2005   \n",
      "\n",
      "                       categories  ratingsCount  \n",
      "5                    ['Religion']           5.0  \n",
      "31  ['Biography & Autobiography']           1.0  \n",
      "33                    ['History']           1.0  \n",
      "42           ['Juvenile Fiction']           2.0  \n",
      "43     ['Foreign Language Study']           1.0  \n"
     ]
    }
   ],
   "source": [
    "#Check for missing values\n",
    "print(books_data.isnull().sum())\n",
    "\n",
    "#Fill or drop missing values\n",
    "books_data = books_data.dropna()\n",
    "\n",
    "#Remove dup\n",
    "books_data = books_data.drop_duplicates()\n",
    "\n",
    "print(books_data.head())\n"
   ]
  },
  {
   "cell_type": "code",
   "execution_count": 65,
   "metadata": {},
   "outputs": [
    {
     "name": "stdout",
     "output_type": "stream",
     "text": [
      "Id                    0\n",
      "Title                 0\n",
      "Price                 0\n",
      "User_id               0\n",
      "profileName           0\n",
      "review/helpfulness    0\n",
      "review/score          0\n",
      "review/time           0\n",
      "review/summary        0\n",
      "review/text           0\n",
      "dtype: int64\n",
      "            Id                                  Title  Price         User_id  \\\n",
      "10  0829814000  Wonderful Worship in Smaller Churches  19.40   AZ0IOBU20TBOP   \n",
      "11  0829814000  Wonderful Worship in Smaller Churches  19.40  A373VVEU6Z9M0N   \n",
      "12  0829814000  Wonderful Worship in Smaller Churches  19.40   AGKGOH65VTRR4   \n",
      "13  0829814000  Wonderful Worship in Smaller Churches  19.40   A3OQWLU31BU1Y   \n",
      "14  0595344550          Whispers of the Wicked Saints  10.95  A3Q12RK71N74LB   \n",
      "\n",
      "                        profileName review/helpfulness  review/score  \\\n",
      "10               Rev. Pamela Tinnin               8/10           5.0   \n",
      "11             Dr. Terry W. Dorsett                1/1           5.0   \n",
      "12  Cynthia L. Lajoy \"Cindy La Joy\"                1/1           5.0   \n",
      "13                    Maxwell Grant                1/1           5.0   \n",
      "14                      Book Reader               7/11           1.0   \n",
      "\n",
      "    review/time                                    review/summary  \\\n",
      "10    991440000     Outstanding Resource for Small Church Pastors   \n",
      "11   1291766400         Small Churches CAN Have Wonderful Worship   \n",
      "12   1248307200                             Not Just for Pastors!   \n",
      "13   1222560000  Small church pastor? This is the book on worship   \n",
      "14   1117065600                                          not good   \n",
      "\n",
      "                                          review/text  \n",
      "10  I just finished the book, &quot;Wonderful Wors...  \n",
      "11  Many small churches feel like they can not hav...  \n",
      "12  I just finished reading this amazing book and ...  \n",
      "13  I hadn't been a small church pastor very long ...  \n",
      "14  I bought this book because I read some glowing...  \n"
     ]
    }
   ],
   "source": [
    "#Check for missing values in ratings_data\n",
    "print(ratings_data.isnull().sum())\n",
    "\n",
    "#Fill or drop missing values\n",
    "ratings_data = ratings_data.dropna()\n",
    "\n",
    "#Remove dup\n",
    "ratings_data = ratings_data.drop_duplicates()\n",
    "\n",
    "print(ratings_data.head())"
   ]
  },
  {
   "cell_type": "code",
   "execution_count": 66,
   "metadata": {},
   "outputs": [
    {
     "name": "stdout",
     "output_type": "stream",
     "text": [
      "                                               Title  \\\n",
      "0  \"A Truthful Impression of the Country\": Britis...   \n",
      "1                                   \"A\" IS FOR ALIBI   \n",
      "2                        \"Ah so!\": Japanese for kids   \n",
      "3                       \"Beatles\" Illustrated Lyrics   \n",
      "4                         \"Beauty Shop-Philly Style\"   \n",
      "\n",
      "                                         description            authors  \\\n",
      "0                                                NaN                NaN   \n",
      "1  READ THE SENSATIONAL BLOCKBUSTER THAT STARTED ...    ['Sue Grafton']   \n",
      "2  This fun introduction to Japanese teaches hund...   ['Carole Marsh']   \n",
      "3  The Beatles: Illustrated Lyrics is the only ma...  ['Alan Aldridge']   \n",
      "4                                                NaN                NaN   \n",
      "\n",
      "                 publisher publishedDate               categories  \\\n",
      "0                      NaN           NaN                      NaN   \n",
      "1          Holt Paperbacks    2010-04-01              ['Fiction']   \n",
      "2  Gallopade International    2004-01-01  ['Juvenile Nonfiction']   \n",
      "3            Omnibus Press    1998-10-01                ['Music']   \n",
      "4                      NaN           NaN                      NaN   \n",
      "\n",
      "   ratingsCount          Id  Price         User_id    profileName  \\\n",
      "0           NaN  0472111973  70.27   A912C7977MO6O     Smallchief   \n",
      "1          20.0         NaN    NaN             NaN            NaN   \n",
      "2           2.0         NaN    NaN             NaN            NaN   \n",
      "3           5.0         NaN    NaN             NaN            NaN   \n",
      "4           NaN  1420859323  13.95  A23JCW11WWEQCQ  SHORTIE \"BBB\"   \n",
      "\n",
      "  review/helpfulness  review/score   review/time  \\\n",
      "0                3/3           4.0  1.123459e+09   \n",
      "1                NaN           NaN           NaN   \n",
      "2                NaN           NaN           NaN   \n",
      "3                NaN           NaN           NaN   \n",
      "4                2/2           4.0  1.137370e+09   \n",
      "\n",
      "                   review/summary  \\\n",
      "0  Travelers and Fellow Travelers   \n",
      "1                             NaN   \n",
      "2                             NaN   \n",
      "3                             NaN   \n",
      "4             a good book to read   \n",
      "\n",
      "                                         review/text  \n",
      "0  This is a book that the hard core student of S...  \n",
      "1                                                NaN  \n",
      "2                                                NaN  \n",
      "3                                                NaN  \n",
      "4  Throught the book,mystery,secrets and jealousy...  \n"
     ]
    }
   ],
   "source": [
    "#Merge the data on Title\n",
    "merged_data = pd.merge(books_data, ratings_data, on='Title', how='outer')\n",
    "\n",
    "print(merged_data.head())\n"
   ]
  },
  {
   "cell_type": "code",
   "execution_count": 68,
   "metadata": {},
   "outputs": [
    {
     "name": "stdout",
     "output_type": "stream",
     "text": [
      "126770                     NaN\n",
      "68721                      NaN\n",
      "400485            ['religion']\n",
      "139059                     NaN\n",
      "261168             ['history']\n",
      "368716                     NaN\n",
      "390575                     NaN\n",
      "247451                     NaN\n",
      "39787               ['poetry']\n",
      "378961                     NaN\n",
      "262445                     NaN\n",
      "75932                      NaN\n",
      "391469     ['performing arts']\n",
      "257929    ['juvenile fiction']\n",
      "333718                     NaN\n",
      "166808         ['mathematics']\n",
      "223194                     NaN\n",
      "343216             ['fiction']\n",
      "236285            ['religion']\n",
      "374010                     NaN\n",
      "Name: categories, dtype: object\n"
     ]
    }
   ],
   "source": [
    "#Convert categories to lowercase\n",
    "merged_data['categories'] = merged_data['categories'].str.lower()\n",
    "\n",
    "#Remove special characters\n",
    "merged_data['categories'] = merged_data['categories'].str.replace(r'[^a-zA-Z0-9\\s]', '')\n",
    "\n",
    "print(merged_data['categories'].sample(20))\n"
   ]
  },
  {
   "cell_type": "code",
   "execution_count": 69,
   "metadata": {},
   "outputs": [
    {
     "name": "stdout",
     "output_type": "stream",
     "text": [
      "252283      ['health & fitness']\n",
      "169029               ['medical']\n",
      "13745                ['fiction']\n",
      "167688               ['fiction']\n",
      "150633    ['games & activities']\n",
      "232549             ['computers']\n",
      "20429       ['juvenile fiction']\n",
      "294803               ['fiction']\n",
      "109415              ['religion']\n",
      "401837             ['reference']\n",
      "Name: categories, dtype: object\n"
     ]
    }
   ],
   "source": [
    "#Remove rows with NaN values in categories\n",
    "merged_data = merged_data.dropna(subset=['categories'])\n",
    "\n",
    "print(merged_data['categories'].sample(10))\n"
   ]
  },
  {
   "cell_type": "code",
   "execution_count": 70,
   "metadata": {},
   "outputs": [
    {
     "name": "stdout",
     "output_type": "stream",
     "text": [
      "37978                    ['body\n",
      "86735               ['fiction']\n",
      "420302       ['transportation']\n",
      "424898              ['cooking']\n",
      "364704    ['political science']\n",
      "166675              ['biography\n",
      "31537                  spirit']\n",
      "219076                     mind\n",
      "4587             ['study aids']\n",
      "389041              ['fiction']\n",
      "Name: categories, dtype: object\n"
     ]
    }
   ],
   "source": [
    "#Split categories with multiple genres into separate rows\n",
    "merged_data = merged_data.assign(categories=merged_data['categories'].str.split(',| & ')).explode('categories')\n",
    "\n",
    "print(merged_data['categories'].sample(10))\n"
   ]
  },
  {
   "cell_type": "code",
   "execution_count": 72,
   "metadata": {},
   "outputs": [
    {
     "name": "stdout",
     "output_type": "stream",
     "text": [
      "categories\n",
      "['fiction']                57814\n",
      "['religion']               14949\n",
      "['juvenile fiction']       14142\n",
      "['biography                12025\n",
      "autobiography']            12025\n",
      "['history']                 9313\n",
      "['business                  6842\n",
      "economics']                 6842\n",
      "['family                    5727\n",
      "relationships']             5727\n",
      "['cooking']                 5722\n",
      "['computers']               5455\n",
      "['health                    4256\n",
      "fitness']                   4256\n",
      "['body                      4225\n",
      "spirit']                    4224\n",
      " mind                       4224\n",
      "['juvenile nonfiction']     4134\n",
      "['science']                 3371\n",
      "['political science']       3247\n",
      "Name: count, dtype: int64\n"
     ]
    }
   ],
   "source": [
    "#Get the unique categories and their counts\n",
    "category_counts = merged_data['categories'].value_counts()\n",
    "\n",
    "print(category_counts.head(20))\n"
   ]
  },
  {
   "cell_type": "code",
   "execution_count": 77,
   "metadata": {},
   "outputs": [
    {
     "name": "stdout",
     "output_type": "stream",
     "text": [
      "                                                Title  \\\n",
      "1                                    \"A\" IS FOR ALIBI   \n",
      "7   \"C\" is for Corpse (A Kinsey Millhone mystery, ...   \n",
      "10  \"Chosen\" Classics: Round the World in Eighty Days   \n",
      "14                                       \"Come to Me\"   \n",
      "36        \"Could Be Worse!\" (Reading Rainbow Library)   \n",
      "\n",
      "                                          description              authors  \\\n",
      "1   READ THE SENSATIONAL BLOCKBUSTER THAT STARTED ...      ['Sue Grafton']   \n",
      "7   You haven't read a thriller until you read #1 ...      ['Sue Grafton']   \n",
      "10  \"Phileas Fogg's bet that he can span the world...      ['Jules Verne']   \n",
      "14  Nominated for a National Book Award, this fres...        ['Amy Bloom']   \n",
      "36  \"Unexcitable Gramps surprises everyone with a ...  ['James Stevenson']   \n",
      "\n",
      "                      publisher publishedDate            categories  \\\n",
      "1               Holt Paperbacks    2010-04-01           ['fiction']   \n",
      "7               Holt Paperbacks    1986-05-15           ['fiction']   \n",
      "10  Createspace Independent Pub          1873           ['fiction']   \n",
      "14               Harper Collins    1994-04-13           ['fiction']   \n",
      "36               Harper Collins    1987-05-21  ['juvenile fiction']   \n",
      "\n",
      "    ratingsCount          Id  Price         User_id   profileName  \\\n",
      "1           20.0         NaN    NaN             NaN           NaN   \n",
      "7           43.0         NaN    NaN             NaN           NaN   \n",
      "10           4.0         NaN    NaN             NaN           NaN   \n",
      "14           6.0  159467180X  10.19  A1ZTE3K3EN4TS3  Brian Reaves   \n",
      "36           2.0         NaN    NaN             NaN           NaN   \n",
      "\n",
      "   review/helpfulness  review/score   review/time  \\\n",
      "1                 NaN           NaN           NaN   \n",
      "7                 NaN           NaN           NaN   \n",
      "10                NaN           NaN           NaN   \n",
      "14                1/2           5.0  1.076803e+09   \n",
      "36                NaN           NaN           NaN   \n",
      "\n",
      "                  review/summary  \\\n",
      "1                            NaN   \n",
      "7                            NaN   \n",
      "10                           NaN   \n",
      "14  Find rest in the arms of God   \n",
      "36                           NaN   \n",
      "\n",
      "                                          review/text  \n",
      "1                                                 NaN  \n",
      "7                                                 NaN  \n",
      "10                                                NaN  \n",
      "14  This book absolutely stunned me. I started rea...  \n",
      "36                                                NaN  \n"
     ]
    }
   ],
   "source": [
    "#Filter fiction books\n",
    "fiction_books = merged_data[merged_data['categories'].str.contains('fiction', case=False, na=False)]\n",
    "\n",
    "#Exclude specific non-fiction categories\n",
    "non_fiction_keywords = ['nonfiction', 'juvenile nonfiction']\n",
    "fiction_books = fiction_books[~fiction_books['categories'].str.contains('|'.join(non_fiction_keywords), case=False, na=False)]\n",
    "\n",
    "print(fiction_books.head())\n"
   ]
  },
  {
   "cell_type": "code",
   "execution_count": 79,
   "metadata": {},
   "outputs": [
    {
     "name": "stdout",
     "output_type": "stream",
     "text": [
      "                                               Title  review/score  \\\n",
      "14                                      \"Come to Me\"           5.0   \n",
      "222  \"Ra Force Rising\": Brother G (Shades of Memnon)           5.0   \n",
      "223  \"Ra Force Rising\": Brother G (Shades of Memnon)           5.0   \n",
      "224  \"Ra Force Rising\": Brother G (Shades of Memnon)           5.0   \n",
      "225  \"Ra Force Rising\": Brother G (Shades of Memnon)           5.0   \n",
      "\n",
      "     ratingsCount  weighted_rating  \n",
      "14            6.0         4.316889  \n",
      "222           1.0         4.249917  \n",
      "223           1.0         4.249917  \n",
      "224           1.0         4.249917  \n",
      "225           1.0         4.249917  \n"
     ]
    }
   ],
   "source": [
    "#Exclude rows with NaN review scores\n",
    "fiction_books = fiction_books.dropna(subset=['review/score'])\n",
    "\n",
    "#Calculate the weighted rating\n",
    "fiction_books['weighted_rating'] = fiction_books.apply(\n",
    "    lambda x: (x['review/score'] * x['ratingsCount'] + C * m) / (x['ratingsCount'] + m), axis=1\n",
    ")\n",
    "\n",
    "print(fiction_books[['Title', 'review/score', 'ratingsCount', 'weighted_rating']].head())\n"
   ]
  },
  {
   "cell_type": "code",
   "execution_count": null,
   "metadata": {},
   "outputs": [],
   "source": [
    "#Clean the authors column by removing [' '] and any other special characters\n",
    "merged_data['authors'] = merged_data['authors'].str.replace(r\"[\\[\\]']\", '', regex=True).str.strip()\n",
    "\n",
    "print(merged_data['authors'].sample(10))\n"
   ]
  },
  {
   "cell_type": "code",
   "execution_count": 80,
   "metadata": {},
   "outputs": [
    {
     "name": "stdout",
     "output_type": "stream",
     "text": [
      "Data exported to fiction_books_with_weighted_ratings.csv\n"
     ]
    }
   ],
   "source": [
    "#Export the fiction books with weighted ratings to a CSV file for DASHBOARD (PowerBI)\n",
    "fiction_books.to_csv('fiction_books_with_weighted_ratings.csv', index=False)\n",
    "\n",
    "print(\"Data exported to fiction_books_with_weighted_ratings.csv\")\n"
   ]
  }
 ],
 "metadata": {
  "kernelspec": {
   "display_name": "base",
   "language": "python",
   "name": "python3"
  },
  "language_info": {
   "codemirror_mode": {
    "name": "ipython",
    "version": 3
   },
   "file_extension": ".py",
   "mimetype": "text/x-python",
   "name": "python",
   "nbconvert_exporter": "python",
   "pygments_lexer": "ipython3",
   "version": "3.12.4"
  }
 },
 "nbformat": 4,
 "nbformat_minor": 2
}
